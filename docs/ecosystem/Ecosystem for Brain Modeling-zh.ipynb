{
 "cells": [
  {
   "cell_type": "code",
   "execution_count": null,
   "id": "initial_id",
   "metadata": {
    "collapsed": true
   },
   "outputs": [],
   "source": [
    ""
   ]
  },
  {
   "metadata": {},
   "cell_type": "markdown",
   "source": [
    "# 大脑建模生态系统\n",
    "\n",
    "我们正在构建一个通用大脑建模生态系统，它是在我们之前的项目[BrainPy](https://github.com/brainpy/BrainPy)基础上发展而来的。\n",
    "\n",
    "该生态系统是一系列工具、库和框架的集合，可用于构建大脑动力学模型和相关应用。\n",
    "\n",
    "这个大脑建模生态系统采用模块化设计，因此您可以根据需要灵活使用其中的部分或全部功能。\n",
    "\n",
    "我们非常欢迎社区的贡献，如果您有关于新工具或库的想法，请告诉我们！\n",
    "\n",
    "请通过以下邮箱联系我们：[chao.brain@qq.com](mailto:chao.brain@qq.com)。"
   ],
   "id": "771bafc91da47c12"
  },
  {
   "metadata": {},
   "cell_type": "code",
   "outputs": [],
   "execution_count": null,
   "source": "",
   "id": "927c95230c1605c8"
  }
 ],
 "metadata": {
  "kernelspec": {
   "display_name": "Python 3",
   "language": "python",
   "name": "python3"
  },
  "language_info": {
   "codemirror_mode": {
    "name": "ipython",
    "version": 2
   },
   "file_extension": ".py",
   "mimetype": "text/x-python",
   "name": "python",
   "nbconvert_exporter": "python",
   "pygments_lexer": "ipython2",
   "version": "2.7.6"
  }
 },
 "nbformat": 4,
 "nbformat_minor": 5
}
