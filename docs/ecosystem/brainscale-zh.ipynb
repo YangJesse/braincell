{
 "cells": [
  {
   "cell_type": "code",
   "execution_count": null,
   "id": "initial_id",
   "metadata": {
    "collapsed": true
   },
   "outputs": [],
   "source": [
    ""
   ]
  },
  {
   "metadata": {},
   "cell_type": "markdown",
   "source": [
    "# brainscale：可扩展在线学习框架\n",
    "\n",
    "[brainscale](https://github.com/chaobrain/brainscale)为大脑动力学提供了可扩展的在线学习框架。它在脉冲神经网络（SNN）在线计算中实现了O(N)的内存和计算复杂度，在循环神经网络（RNN）计算中达到O(N²)复杂度。\n",
    "\n",
    "与**brainscale**相关的资源：\n",
    "- brainscale的文档可在[https://brainscale.readthedocs.io/](https://brainscale.readthedocs.io/)查阅。"
   ],
   "id": "d0aeea12821943fc"
  }
 ],
 "metadata": {
  "kernelspec": {
   "display_name": "Python 3",
   "language": "python",
   "name": "python3"
  },
  "language_info": {
   "codemirror_mode": {
    "name": "ipython",
    "version": 2
   },
   "file_extension": ".py",
   "mimetype": "text/x-python",
   "name": "python",
   "nbconvert_exporter": "python",
   "pygments_lexer": "ipython2",
   "version": "2.7.6"
  }
 },
 "nbformat": 4,
 "nbformat_minor": 5
}
