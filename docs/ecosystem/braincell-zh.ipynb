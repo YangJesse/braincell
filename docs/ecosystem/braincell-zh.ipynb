{
 "cells": [
  {
   "cell_type": "code",
   "execution_count": null,
   "id": "initial_id",
   "metadata": {
    "collapsed": true
   },
   "outputs": [],
   "source": [
    ""
   ]
  },
  {
   "metadata": {},
   "cell_type": "markdown",
   "source": [
    "# braincell：生物细节大脑细胞建模\n",
    "\n",
    "[braincell](https://github.com/chaobrain/braincell)，即本文档中重点介绍的工具，是我们大脑动力学编程（BDP）生态系统中用于树突计算的包。它提供了一套构建树突计算模型的工具，包括树突树的构建、树突隔室的定义以及神经元中各种离子和通道的实现。\n",
    "\n",
    "[braincell](https://github.com/chaobrain/braincell)专为树突建模设计了高度并行的计算架构。在单个设备上，房室和神经元的计算都实现了并行化，从而提供卓越的性能。\n",
    "\n",
    "与**braincell**相关的资源：\n",
    "- braincell的文档可在[https://braincell.readthedocs.io/](https://braincell.readthedocs.io/)查阅。"
   ],
   "id": "b86804398e2d13d4"
  }
 ],
 "metadata": {
  "kernelspec": {
   "display_name": "Python 3",
   "language": "python",
   "name": "python3"
  },
  "language_info": {
   "codemirror_mode": {
    "name": "ipython",
    "version": 2
   },
   "file_extension": ".py",
   "mimetype": "text/x-python",
   "name": "python",
   "nbconvert_exporter": "python",
   "pygments_lexer": "ipython2",
   "version": "2.7.6"
  }
 },
 "nbformat": 4,
 "nbformat_minor": 5
}
