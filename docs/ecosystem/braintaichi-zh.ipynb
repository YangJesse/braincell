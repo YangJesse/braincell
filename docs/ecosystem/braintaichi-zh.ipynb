{
 "cells": [
  {
   "cell_type": "code",
   "execution_count": null,
   "id": "initial_id",
   "metadata": {
    "collapsed": true
   },
   "outputs": [],
   "source": [
    ""
   ]
  },
  {
   "metadata": {},
   "cell_type": "markdown",
   "source": [
    "# braintaichi：事件驱动计算框架\n",
    "\n",
    "大脑动力学具有事件驱动的稀疏计算特性，这与现有的矩阵乘法算子并不兼容。\n",
    "\n",
    "[braintaichi](https://github.com/chaobrain/braintaichi)专为定制大脑动力学中的事件驱动算子而设计。它借助[Taichi Lang](https://www.taichi-lang.org/)（一种嵌入在Python中的领域特定语言，有助于在CPU和GPU上轻松编写高性能并行程序，并且可以嵌入到JAX/XLA流程中）实现这一目标。\n",
    "\n",
    "目前，[braintaichi](https://github.com/chaobrain/braintaichi)提供了两个级别的接口：\n",
    "1. 它提供了一个用于定制事件驱动的大脑动力学算子的框架。\n",
    "2. 它实现了几个常用的算子，包括事件驱动的矩阵向量乘法、[即时连接算子](https://arxiv.org/abs/2311.05106)和常见的稀疏例程。\n",
    "\n",
    "与braintaichi相关的资源：\n",
    "- braintaichi的文档可在以下链接找到：[https://braintaichi.readthedocs.io/](https://braintaichi.readthedocs.io/)"
   ],
   "id": "9345acb3cedac94d"
  },
  {
   "metadata": {},
   "cell_type": "code",
   "outputs": [],
   "execution_count": null,
   "source": "",
   "id": "9cceb008071b8fe"
  }
 ],
 "metadata": {
  "kernelspec": {
   "display_name": "Python 3",
   "language": "python",
   "name": "python3"
  },
  "language_info": {
   "codemirror_mode": {
    "name": "ipython",
    "version": 2
   },
   "file_extension": ".py",
   "mimetype": "text/x-python",
   "name": "python",
   "nbconvert_exporter": "python",
   "pygments_lexer": "ipython2",
   "version": "2.7.6"
  }
 },
 "nbformat": 4,
 "nbformat_minor": 5
}
