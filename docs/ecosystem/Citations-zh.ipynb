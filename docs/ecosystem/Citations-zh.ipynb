{
 "cells": [
  {
   "cell_type": "code",
   "execution_count": null,
   "id": "initial_id",
   "metadata": {
    "collapsed": true
   },
   "outputs": [],
   "source": [
    ""
   ]
  },
  {
   "metadata": {},
   "cell_type": "markdown",
   "source": [
    "# 关于引用\n",
    "\n",
    "如果``braincell``对你的研究有所帮助，你可以使用以下论文：\n",
    "\n",
    "Chaoming Wang, & Shouwei Luo. (2025). chaobrain/braincell: Version 0.0.1 (v0.0.1). Zenodo. https://doi.org/10.5281/zenodo.14969988\n",
    "\n",
    "```python\n",
    "@software{chaoming_wang_2025_14969988,\n",
    "  author       = {Chaoming Wang and Shouwei Luo},\n",
    "  title        = {chaobrain/braincell: Version 0.0.1},\n",
    "  month        = mar,\n",
    "  year         = 2025,\n",
    "  publisher    = {Zenodo},\n",
    "  version      = {v0.0.1},\n",
    "  doi          = {10.5281/zenodo.14969988},\n",
    "  url          = {https://doi.org/10.5281/zenodo.14969988},\n",
    "}\n",
    "```\n",
    "\n",
    "此外，如果[大脑建模生态系统](https://brain-modeling.readthedocs.io/)中的其他板块在你的研究中发挥了重要作用，并且你希望承认该项目，你可以查看[引用相关](https://brain-modeling.readthedocs.io/citation.html)来获取相关论文与项目信息。\n"
   ],
   "id": "c91d458e96ac306b"
  },
  {
   "metadata": {},
   "cell_type": "code",
   "outputs": [],
   "execution_count": null,
   "source": "",
   "id": "32dead7828c38053"
  }
 ],
 "metadata": {
  "kernelspec": {
   "display_name": "Python 3",
   "language": "python",
   "name": "python3"
  },
  "language_info": {
   "codemirror_mode": {
    "name": "ipython",
    "version": 2
   },
   "file_extension": ".py",
   "mimetype": "text/x-python",
   "name": "python",
   "nbconvert_exporter": "python",
   "pygments_lexer": "ipython2",
   "version": "2.7.6"
  }
 },
 "nbformat": 4,
 "nbformat_minor": 5
}
