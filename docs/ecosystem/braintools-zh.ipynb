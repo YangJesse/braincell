{
 "cells": [
  {
   "cell_type": "code",
   "execution_count": null,
   "id": "initial_id",
   "metadata": {
    "collapsed": true
   },
   "outputs": [],
   "source": [
    ""
   ]
  },
  {
   "metadata": {},
   "cell_type": "markdown",
   "source": [
    "# braintools：常用工具\n",
    "\n",
    "\n",
    "[braintools](https://github.com/chaobrain/braintools)是大脑动力学编程的工具集合，它提供了一套用于分析大脑动力学的工具。\n",
    "\n",
    "与**braintools**相关的资源：\n",
    "- braintools的文档可在[https://braintools.readthedocs.io/](https://braintools.readthedocs.io/)查阅。"
   ],
   "id": "7ac7d6bfd6a54059"
  },
  {
   "metadata": {
    "ExecuteTime": {
     "end_time": "2025-07-10T02:33:27.576786Z",
     "start_time": "2025-07-10T02:33:27.575258Z"
    }
   },
   "cell_type": "code",
   "source": "",
   "id": "cfa9559c8f6a10b0",
   "outputs": [],
   "execution_count": null
  }
 ],
 "metadata": {
  "kernelspec": {
   "display_name": "Python 3",
   "language": "python",
   "name": "python3"
  },
  "language_info": {
   "codemirror_mode": {
    "name": "ipython",
    "version": 2
   },
   "file_extension": ".py",
   "mimetype": "text/x-python",
   "name": "python",
   "nbconvert_exporter": "python",
   "pygments_lexer": "ipython2",
   "version": "2.7.6"
  }
 },
 "nbformat": 4,
 "nbformat_minor": 5
}
