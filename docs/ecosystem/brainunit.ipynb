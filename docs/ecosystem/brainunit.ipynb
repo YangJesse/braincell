{
 "cells": [
  {
   "cell_type": "code",
   "execution_count": null,
   "id": "initial_id",
   "metadata": {
    "collapsed": true
   },
   "outputs": [],
   "source": [
    ""
   ]
  },
  {
   "metadata": {},
   "cell_type": "markdown",
   "source": [
    "# brainunit：物理单位\n",
    "\n",
    "从[brainunit](https://github.com/chaobrain/brainunit)开始，我们将开发一个新的大脑动力学编程生态系统。\n",
    "\n",
    "[brainunit](https://github.com/chaobrain/brainunit)为大脑动力学提供了全面的物理单位和支持单位感知的数学系统。它被设计为与JAX的变换系统（包括`jax.jit`、`jax.grad`、`jax.vmap`、`jax.pmap`等）完全兼容。\n",
    "\n",
    "[brainunit](https://github.com/chaobrain/brainunit)提供了2000多个常用物理单位以及200多个支持这些单位的数学运算。\n",
    "\n",
    "[brainunit](https://github.com/chaobrain/brainunit)不仅易于使用，而且对大脑动力学编程非常有用。由于大多数大脑动力学模型基于物理方程，使用物理单位对于确保模型的正确性至关重要。\n",
    "\n",
    "与**brainunit**相关的资源：\n",
    "- brainunit的文档可在[https://brainunit.readthedocs.io/](https://brainunit.readthedocs.io/)查阅。"
   ],
   "id": "a5cd1539b3515307"
  },
  {
   "metadata": {},
   "cell_type": "code",
   "outputs": [],
   "execution_count": null,
   "source": "",
   "id": "6dde7bc899a80418"
  }
 ],
 "metadata": {
  "kernelspec": {
   "display_name": "Python 3",
   "language": "python",
   "name": "python3"
  },
  "language_info": {
   "codemirror_mode": {
    "name": "ipython",
    "version": 2
   },
   "file_extension": ".py",
   "mimetype": "text/x-python",
   "name": "python",
   "nbconvert_exporter": "python",
   "pygments_lexer": "ipython2",
   "version": "2.7.6"
  }
 },
 "nbformat": 4,
 "nbformat_minor": 5
}
