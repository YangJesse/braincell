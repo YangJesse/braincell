{
 "cells": [
  {
   "cell_type": "code",
   "execution_count": null,
   "id": "initial_id",
   "metadata": {
    "collapsed": true
   },
   "outputs": [],
   "source": [
    ""
   ]
  },
  {
   "metadata": {},
   "cell_type": "markdown",
   "source": [
    "# BrainPy：传统经典框架\n",
    "\n",
    "[BrainPy](https://github.com/brainpy/BrainPy)是我们创建的第一个用于大脑动力学编程的平台。\n",
    "\n",
    "该框架具有很高的灵活性，允许用户自由定义大脑动力学模型。它集成了事件驱动算子、微分方程求解器和模型构建接口等工具，使用户能够根据需要灵活定制模型。BrainPy支持大脑动力学模拟、训练和分析等多种应用场景。在单个模型中，用户可以进行模拟、离线学习、在线学习或反向传播训练等实验，还可以进一步进行低维分岔分析或高维慢点分析。\n",
    "\n",
    "在性能方面，BrainPy通过面向对象的即时编译（JIT）和针对大脑动力学特性的专用算子实现了显著提升。然而，其JIT接口和事件驱动算子存在一些缺点，我们将在后续的包中对其进行改进。此外，BrainPy具有良好的可扩展性。通过插件模块可以轻松实现新功能和扩展，这使得BrainPy能够适应不断发展的大脑动力学领域，满足不断变化的研究需求。\n",
    "\n",
    "与BrainPy相关的资源：\n",
    "- BrainPy的文档可在以下链接找到：[https://brainpy.readthedocs.io/](https://brainpy.readthedocs.io/)\n",
    "- BrainPy的丰富示例可在以下链接找到：[https://brainpy-examples.readthedocs.io/](https://brainpy-examples.readthedocs.io/)"
   ],
   "id": "d67821690c5863f9"
  },
  {
   "metadata": {},
   "cell_type": "code",
   "outputs": [],
   "execution_count": null,
   "source": "",
   "id": "c32ad400604b2254"
  }
 ],
 "metadata": {
  "kernelspec": {
   "display_name": "Python 3",
   "language": "python",
   "name": "python3"
  },
  "language_info": {
   "codemirror_mode": {
    "name": "ipython",
    "version": 2
   },
   "file_extension": ".py",
   "mimetype": "text/x-python",
   "name": "python",
   "nbconvert_exporter": "python",
   "pygments_lexer": "ipython2",
   "version": "2.7.6"
  }
 },
 "nbformat": 4,
 "nbformat_minor": 5
}
