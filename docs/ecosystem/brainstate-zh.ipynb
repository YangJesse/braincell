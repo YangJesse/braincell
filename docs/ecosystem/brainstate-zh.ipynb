{
 "cells": [
  {
   "cell_type": "code",
   "execution_count": null,
   "id": "initial_id",
   "metadata": {
    "collapsed": true
   },
   "outputs": [],
   "source": [
    ""
   ]
  },
  {
   "metadata": {},
   "cell_type": "markdown",
   "source": [
    "# brainstate：基于状态的编译系统\n",
    "\n",
    "大脑动力学具有固有的内存密集型计算特性。大多数操作是逐元素计算，应当通过即时编译（JIT）进行优化。为此，我们正在开发[brainstate](https://github.com/chaobrain/brainstate)，为大脑动力学编程（BDP）提供易于使用的JIT转换系统。\n",
    "\n",
    "直接将JAX的JIT接口应用于高度复杂的大脑动力学模型具有挑战性。相比之下，[brainstate](https://github.com/chaobrain/brainstate)提供了一个基于**State**的转换系统，对BDP模型的编译非常直观。目前，它提供了各种常用的转换函数，包括梯度计算、控制流处理和JIT编译。\n",
    "\n",
    "brainstate是新一代BDP生态系统的基础。\n",
    "\n",
    "与**brainstate**相关的资源：\n",
    "- brainstate的文档可在[https://brainstate.readthedocs.io/](https://brainstate.readthedocs.io/)查阅。"
   ],
   "id": "762a74eea36b3704"
  },
  {
   "metadata": {},
   "cell_type": "code",
   "outputs": [],
   "execution_count": null,
   "source": "",
   "id": "7314f84b73f78560"
  }
 ],
 "metadata": {
  "kernelspec": {
   "display_name": "Python 3",
   "language": "python",
   "name": "python3"
  },
  "language_info": {
   "codemirror_mode": {
    "name": "ipython",
    "version": 2
   },
   "file_extension": ".py",
   "mimetype": "text/x-python",
   "name": "python",
   "nbconvert_exporter": "python",
   "pygments_lexer": "ipython2",
   "version": "2.7.6"
  }
 },
 "nbformat": 4,
 "nbformat_minor": 5
}
