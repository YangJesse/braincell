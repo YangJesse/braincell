{
 "cells": [
  {
   "cell_type": "code",
   "execution_count": null,
   "id": "initial_id",
   "metadata": {
    "collapsed": true
   },
   "outputs": [],
   "source": [
    ""
   ]
  },
  {
   "metadata": {},
   "cell_type": "markdown",
   "source": [
    "# brainevent：用于大脑动力学的事件驱动算法\n",
    "\n",
    "[BrainEvent](https://github.com/chaobrain/brainevent)提供了一套用于在**CPU**、**GPU**、**TPU**（甚至更多设备）上进行事件驱动计算的数据结构和算法，可用于以高效且符合生物学原理的方式对大脑动力学进行建模。\n",
    "\n",
    "具体来说，它提供了以下类来表示大脑中的二元事件：\n",
    "- **EventArray**：用事件向量/矩阵表示的数组。\n",
    "\n",
    "此外，它还为上述类的事件驱动计算实现了以下常用数据结构：\n",
    "- **COO**：用于稀疏和事件驱动计算的COO格式稀疏矩阵。\n",
    "- **CSR**：用于稀疏和事件驱动计算的CSR格式稀疏矩阵。\n",
    "- **CSC**：用于稀疏和事件驱动计算的CSC格式稀疏矩阵。\n",
    "- **JITCHomoR**：用于稀疏和事件驱动计算的具有同质权重的即时连接矩阵。\n",
    "- **JITCNormalR**：用于稀疏和事件驱动计算的具有正态分布权重的即时连接矩阵。\n",
    "- **JITCUniformR**：用于稀疏和事件驱动计算的具有均匀分布权重的即时连接矩阵。\n",
    "- **FixedPreNumConn**：用于稀疏和事件驱动计算的固定数量的突触前连接。\n",
    "- **FixedPostNumConn**：用于稀疏和事件驱动计算的固定数量的突触后连接。\n",
    "- ...\n",
    "\n",
    "与**brainevent**相关的资源：\n",
    "- brainevent的文档可在[https://brainevent.readthedocs.io/](https://brainevent.readthedocs.io/)查阅。"
   ],
   "id": "5cc899bb3cb2355c"
  }
 ],
 "metadata": {
  "kernelspec": {
   "display_name": "Python 3",
   "language": "python",
   "name": "python3"
  },
  "language_info": {
   "codemirror_mode": {
    "name": "ipython",
    "version": 2
   },
   "file_extension": ".py",
   "mimetype": "text/x-python",
   "name": "python",
   "nbconvert_exporter": "python",
   "pygments_lexer": "ipython2",
   "version": "2.7.6"
  }
 },
 "nbformat": 4,
 "nbformat_minor": 5
}
