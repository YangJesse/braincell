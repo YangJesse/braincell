{
 "cells": [
  {
   "cell_type": "code",
   "execution_count": null,
   "id": "initial_id",
   "metadata": {
    "collapsed": true
   },
   "outputs": [],
   "source": [
    ""
   ]
  },
  {
   "metadata": {},
   "cell_type": "markdown",
   "source": [
    "# 概述\n",
    "\n",
    "在掌握了 Braincell 的基础知识和基本编程逻辑后，我们提供了一系列更为具体的实例，帮助你在实际场景中深化对神经建模的理解。这些实例覆盖从微观到宏观的多个层次，具体如下：\n",
    "\n",
    "- **离子通道层次**：聚焦离子通道的门控机制，解析不同类型钙通道的特性差异。\n",
    "- **神经元层次**：实现四种丘脑特化神经元（HTC、RTC、IN、TRN）的建模，分析不同神经元在丘脑-皮层网络中的角色\n",
    "- **网络层次**：构建由 HH 模型神经元组成的 E-I 网络，展示突触连接如何塑造群体动态。\n",
    "\n",
    "以及在 quickstart 中出现过的积分实例：\n",
    "- **积分方法**：以经典 HH 模型为对象，探讨数值积分方法对单细胞电活动模拟结果的影响。"
   ],
   "id": "ff8dcbb49e0d8b2"
  },
  {
   "metadata": {},
   "cell_type": "code",
   "outputs": [],
   "execution_count": null,
   "source": "",
   "id": "43bf699768f01b0b"
  }
 ],
 "metadata": {
  "kernelspec": {
   "display_name": "Python 3",
   "language": "python",
   "name": "python3"
  },
  "language_info": {
   "codemirror_mode": {
    "name": "ipython",
    "version": 2
   },
   "file_extension": ".py",
   "mimetype": "text/x-python",
   "name": "python",
   "nbconvert_exporter": "python",
   "pygments_lexer": "ipython2",
   "version": "2.7.6"
  }
 },
 "nbformat": 4,
 "nbformat_minor": 5
}
