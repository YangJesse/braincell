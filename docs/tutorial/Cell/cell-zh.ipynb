{
 "cells": [
  {
   "metadata": {},
   "cell_type": "markdown",
   "source": [
    "# Cell\n",
    "\n",
    "我们首先来学习 `Cell` 的建模方式。\n",
    "\n",
    "`Cell` 的核心包括以下三个组成部分：\n",
    "\n",
    "- `HHTypeNeuron`：基类，提供 HH 类型神经元的抽象接口。\n",
    "- `SingleCompartment`：单房室神经元模型，适用于结构简单的神经元。\n",
    "- `MultiCompartment`：多房室神经元模型，适用于需要考虑空间结构的情况。\n",
    "\n",
    "三者共同构成了从局部膜区域到完整神经元结构的建模体系，通过继承机制共享建模接口，配合 `brainstate` 的加速与计算能力，为在细胞层面的神经计算建模提供了强大支持。\n"
   ],
   "id": "a9726a580a24dd7"
  },
  {
   "metadata": {},
   "cell_type": "code",
   "outputs": [],
   "execution_count": null,
   "source": "",
   "id": "58d50262b6fb6ede"
  }
 ],
 "metadata": {
  "kernelspec": {
   "display_name": "Python 3",
   "language": "python",
   "name": "python3"
  },
  "language_info": {
   "codemirror_mode": {
    "name": "ipython",
    "version": 2
   },
   "file_extension": ".py",
   "mimetype": "text/x-python",
   "name": "python",
   "nbconvert_exporter": "python",
   "pygments_lexer": "ipython2",
   "version": "2.7.6"
  }
 },
 "nbformat": 4,
 "nbformat_minor": 5
}
