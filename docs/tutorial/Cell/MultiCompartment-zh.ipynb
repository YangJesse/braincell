{
 "cells": [
  {
   "cell_type": "code",
   "execution_count": null,
   "id": "initial_id",
   "metadata": {
    "collapsed": true
   },
   "outputs": [],
   "source": [
    ""
   ]
  },
  {
   "metadata": {},
   "cell_type": "markdown",
   "source": [
    "# MultiCompartment\n",
    "\n",
    "## 电生理特性\n",
    "\n",
    "在真实神经元中，细胞不仅仅是一个点状结构，而是具有复杂的空间结构：树突、轴突、胞体等，这些结构对神经元的电生理行为有显著影响。\n",
    "为了更精确地模拟空间上的电信号传播，我们引入了 `MultiCompartment` 。\n",
    "\n",
    "在此之前，我们有必要向你介绍电缆理论，以方便你理解后续内容。\n",
    "\n",
    "实际上，神经元并非只是简单的电容器，而是具有空间结构的电缆型系统。电缆理论是一种用于描述电信号在神经元轴突或树突等细长结构中如何传播的理论模型。\n",
    "电缆理论源于工程学中对传输线的建模，在神经科学中，它将树突和轴突看作一维电缆，能够模拟电信号随时间和空间的变化。\n",
    "\n",
    "计算模型中，电缆理论通常通过离散房室模型来实现。神经元被分割成多个房室，每个房室是一个等效电路单元，相邻房室之间通过电阻连接，形成近似的空间结构模拟。\n",
    "结合我们的建模框架不难发现，这就是 `MultiCompartment` 建模的核心原理。\n",
    "\n",
    "在这种建模方式中，整个神经元被划分为多个空间上连接的房室，每个房室有独立的膜电位、膜电流，并通过电缆理论中的轴向电阻进行耦合。\n",
    "- 每个房室拥有自己的离子通道分布和膜电流。\n",
    "- 房室之间通过电阻连接，电流可以在房室之间传导。\n",
    "- 能够描述电信号在树突或轴突上的衰减、延迟、反射等现象。\n",
    "\n",
    "其电学形式遵循电缆方程：\n",
    "\n",
    "$$\n",
    "C_m \\frac{dV_i}{dt} = -I_{\\text{ion}, i} + \\sum_j \\frac{(V_j - V_i)}{R_{ij}} + I_{\\text{ext}, i}\n",
    "$$\n",
    "\n",
    "其中：\n",
    "\n",
    "- $C_m$：膜电容\n",
    "- $I_{\\text{ion}, i}$：第 $i$ 个房室的离子电流\n",
    "- $\\frac{(V_j - V_i)}{R_{ij}}$：从相邻房室 $j$ 传导到房室 $i$ 的轴向电流\n",
    "- $R_{ij}$：两个房室之间的轴向电阻\n",
    "- $I_{\\text{ext}, i}$：外部注入电流\n",
    "\n",
    "由于具备空间建模能力，多房室模型广泛用于建模复杂树突整合、动作电位沿轴突传播等电生理现象。\n",
    "\n",
    "## 建模实现\n",
    "\n",
    "同样，`MultiCompartment` 的建模也并不复杂，整体思路与 `SingleCompartment` 的建模类似，只是我们需要定义的参数不同了。\n",
    "\n",
    "我们来看这个例子：\n",
    "\n",
    "```python\n",
    "class MultiCompartmentHH(braincell.MultiCompartment):\n",
    "    def __init__(self,  size, connection, Ra, cm, diam, L, solver = 'exp_euler'):\n",
    "        super().__init__(\n",
    "            size=size,\n",
    "            connection= connection,\n",
    "            Ra= Ra * u.ohm * u.cm,\n",
    "            cm= cm * u.uF / u.cm ** 2,\n",
    "            diam=diam * u.um,\n",
    "            L= L * u.um,\n",
    "            V_th=20. * u.mV,\n",
    "            V_initializer=brainstate.init.Constant(-65 * u.mV),\n",
    "            spk_fun=brainstate.surrogate.ReluGrad(),\n",
    "            solver = solver\n",
    "        )\n",
    "        self.IL = braincell.channel.IL(self.varshape, E= -65 * u.mV, g_max= 0.001 * s)\n",
    "```\n",
    "\n",
    "这个例子展示了如何使用 `MultiCompartment` 构建一个简单的多房室神经元模型，设定相关参数，并且添加了一个漏电流通道。当然，这只是一个很简单的例子，我们可以对模型进一步拓展，添加其他通道或者注入电流。\n",
    "\n",
    "通过 `MultiCompartment`，我们可以轻松构建结构精细、行为多样的多房室神经元模型。"
   ],
   "id": "bcce0896f9cf5d2a"
  }
 ],
 "metadata": {
  "kernelspec": {
   "display_name": "Python 3",
   "language": "python",
   "name": "python3"
  },
  "language_info": {
   "codemirror_mode": {
    "name": "ipython",
    "version": 2
   },
   "file_extension": ".py",
   "mimetype": "text/x-python",
   "name": "python",
   "nbconvert_exporter": "python",
   "pygments_lexer": "ipython2",
   "version": "2.7.6"
  }
 },
 "nbformat": 4,
 "nbformat_minor": 5
}
