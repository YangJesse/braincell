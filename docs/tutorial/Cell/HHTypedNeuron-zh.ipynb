{
 "cells": [
  {
   "cell_type": "code",
   "execution_count": null,
   "id": "initial_id",
   "metadata": {
    "collapsed": true
   },
   "outputs": [],
   "source": [
    ""
   ]
  },
  {
   "metadata": {},
   "cell_type": "markdown",
   "source": [
    "# HHTypedNeuron\n",
    "\n",
    "## 电生理特性\n",
    "\n",
    "`HHTypedNeuron` 是 `braincell` 中的一个基础抽象类，用于构建 Hodgkin–Huxley 类型的神经元模型。在这种建模方式下，神经元的膜电位由多个电流组成：\n",
    "\n",
    "- 主动电流：由钠、钾通道控制，具有电压门控性质。\n",
    "- 被动电流：如漏电流。\n",
    "- 电容电流：由膜电位变化产生。\n",
    "\n",
    "这种建模方式最早由 Hodgkin 和 Huxley 于 1952 年提出，用以解释鱿鱼巨轴突的动作电位机制。HH 模型不仅奠定了现代神经建模的基础，而且至今仍然是许多模型的核心构件。\n",
    "\n",
    "首先，我们来学习一下 HH 模型中膜电位的方程，这有助于我们在之后结合实际神经元情况进行建模。\n",
    "\n",
    "在 HH 模型中，膜电位 $V$ 的变化由以下方程描述：\n",
    "\n",
    "$$\n",
    "C_m \\frac{dV}{dt} = - (I_{\\text{Na}} + I_{\\text{K}} + I_L) + I_{\\text{ext}}\n",
    "$$\n",
    "\n",
    "其中：\n",
    "\n",
    "- $C_m$：膜电容\n",
    "- $I_{\\text{Na}}, I_{\\text{K}}$：钠、钾通道产生的离子电流\n",
    "- $I_L$：漏电流\n",
    "- $I_{\\text{ext}}$：外部注入电流（例如通过刺激电极注入）\n",
    "\n",
    "## 建模实现\n",
    "\n",
    "`HHTypedNeuron` 继承自：\n",
    "- `Dynamics`：用于定义状态变量与动力学方程。\n",
    "- `Container`：用于管理子模块。\n",
    "- `DiffEqModule`：微分方程模块，支持自动建模。\n",
    "\n",
    "因此，基于 `HHTypedNeuron`，你可以轻松实现对离子通道的灵活组合，构建多种动力学配置。\n",
    "同时，因为 `HHTypedNeuron` 与 `brainstate` 深度集成，此模块也同样支持自动微分和向量化仿真，便于批量模拟和训练建模。\n",
    "\n",
    "值得一提的是，在 `braincell` 中，我们所有的神经元模型都是基于 HH 模型构建的。\n",
    "具体来说，`SingleCompartment`和 `MultiCompartment`这两个神经元模型类，都继承自 `HHTypedNeuron`，共享其统一的接口和建模框架。\n",
    "这使得我们可以在不同结构复杂度下，复用相同的离子通道机制与动力学建模方式。"
   ],
   "id": "1af7becc5d31f807"
  }
 ],
 "metadata": {
  "kernelspec": {
   "display_name": "Python 3",
   "language": "python",
   "name": "python3"
  },
  "language_info": {
   "codemirror_mode": {
    "name": "ipython",
    "version": 2
   },
   "file_extension": ".py",
   "mimetype": "text/x-python",
   "name": "python",
   "nbconvert_exporter": "python",
   "pygments_lexer": "ipython2",
   "version": "2.7.6"
  }
 },
 "nbformat": 4,
 "nbformat_minor": 5
}
