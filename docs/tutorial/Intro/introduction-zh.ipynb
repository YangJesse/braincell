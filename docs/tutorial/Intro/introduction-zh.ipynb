{
 "cells": [
  {
   "metadata": {},
   "cell_type": "markdown",
   "source": [
    "# Introduction\n",
    "\n",
    "## 神经建模的层次结构\n",
    "\n",
    "在神经科学建模中，我们通常将模型按照结构复杂度与功能层次，划分为以下几个主要层级：\n",
    "\n",
    "- `System`\n",
    "- `Network`\n",
    "- `Cell`\n",
    "- `Channel`\n",
    "- `Ion`\n",
    "\n",
    "从上到下，结构逐渐简化，功能逐渐单一。\n",
    "\n",
    "`braincell` 用于进行精确的神经元动力学建模，专注于其中的 `Cell`、`Channel` 和 `Ion` 三个层次。\n",
    "- `Cell`：单个神经元的建模单位，用于整合多个通道并产生膜电位变化。\n",
    "- `Channel`：膜上的离子通道，控制特定离子的通透性，决定电流流动。\n",
    "- `Ion`：最基本的带电离子，如 Na⁺、K⁺、Ca²⁺ 等，驱动膜电位变化。\n",
    "\n",
    "这些层次构成了神经元从微观机制到宏观动力学的完整建模路径。\n",
    "\n",
    "## 生物学上的联系\n",
    "\n",
    "从生物学上来看，这三个层级构成了神经元电活动的基本机制：\n",
    "- 神经元细胞`Cell`由细胞膜包围，膜上分布着各种离子通道`Channel`。\n",
    "- 每个离子通道专门控制一种或几种离子`Ion`的进出。\n",
    "- 离子的流动会引起膜内外电位的变化，从而驱动神经元的活动。\n",
    "\n",
    "三者大体的结构如下图：\n",
    "\n",
    "![细胞膜上的离子通道与离子](../_static/cell.png)\n",
    "\n",
    "粉红色的部分就是磷脂双分子层构成的细胞膜，而绿色的通道就是离子通道，其中穿过的黄色小球就是离子。\n",
    "我们可以通过这张矢量图看出来，`Cell`、`Channel` 和 `Ion`在结构上有着非常紧密的联系。而这三者之间具体的生物学及电生理学联系，我们将在之后的章节进行讲解。\n",
    "\n",
    "## 接下来的内容\n",
    "\n",
    "了解了`Cell`、`Channel` 和 `Ion`的基本结构与相互关系后，接下来我们将逐层深入，讲解如何使用 `braincell` 来进行各个层级的建模工作。\n",
    "\n",
    "我们将依次介绍：\n",
    "\n",
    "- `Cell`：如何对神经元进行建模，并组合其中的离子通道。\n",
    "- `Channel`：如何对离子通道进行建模。\n",
    "- `Ion`：如何对离子进行建模。\n",
    "\n",
    "通过逐步构建，我们将最终实现一个完整的神经元模型，并观察其电生理行为。\n",
    "\n",
    "这里需要进行补充：`Cell` 不是实际存在的类，而是为了方便讲解归纳的一个层级，实际上 `HHTypedNeuron` 是神经元建模的基类。但其他两个 `braincell` 关注的层次，即 `Ion` 和 `Channel` 都是真实存在的类，这一点在后续建模中我们会讲解到。\n",
    "\n"
   ],
   "id": "a20062ef71283754"
  },
  {
   "metadata": {},
   "cell_type": "code",
   "outputs": [],
   "execution_count": null,
   "source": "",
   "id": "851402638a7a3554"
  }
 ],
 "metadata": {
  "kernelspec": {
   "display_name": "Python 3",
   "language": "python",
   "name": "python3"
  },
  "language_info": {
   "codemirror_mode": {
    "name": "ipython",
    "version": 2
   },
   "file_extension": ".py",
   "mimetype": "text/x-python",
   "name": "python",
   "nbconvert_exporter": "python",
   "pygments_lexer": "ipython2",
   "version": "2.7.6"
  }
 },
 "nbformat": 4,
 "nbformat_minor": 5
}
