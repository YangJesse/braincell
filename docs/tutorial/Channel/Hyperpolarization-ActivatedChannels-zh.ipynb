{
 "cells": [
  {
   "cell_type": "code",
   "execution_count": null,
   "id": "initial_id",
   "metadata": {
    "collapsed": true
   },
   "outputs": [],
   "source": [
    ""
   ]
  },
  {
   "metadata": {},
   "cell_type": "markdown",
   "source": [
    "## Hyperpolarization-Activated Channels\n",
    "\n",
    "### 电生理特性\n",
    "\n",
    "超极化激活通道，是一类在膜电位超极化时被激活的阳离子通道。它们在心脏节律神经元和中枢神经系统中的某些类型神经元中发挥着关键的调节作用：\n",
    "\n",
    "- 调节静息膜电位：在静息状态下产生的去极化电流可稳定神经元的膜电位，防止过度超极化。\n",
    "- 参与节律性放电：在丘脑等结构中，帮助神经元维持固有节律放电。\n",
    "- 兴奋性调节：能够降低神经元的输入电阻，从而降低细胞对输入的敏感性。\n",
    "\n",
    "### 建模实现\n",
    "\n",
    "由于我们在 `braincell` 中没有内置很多的超极化激活通道，所以我们直接让具体的超极化激活通道继承自 `Channel` 类，这在实际使用上并不会有任何影响。\n",
    "\n",
    "下面我们给出一个超极化激活通道的例子。\n",
    "\n",
    "`Ih_HM1992` 是由 Huguenard & McCormick 在 1992 年提出的超极化激活阳离子电流模型，其动力学由下式给出：\n",
    "\n",
    "$$\n",
    "\\begin{aligned}\n",
    "        I_h &= g_{\\mathrm{max}} p \\\\\n",
    "        \\frac{dp}{dt} &= \\phi \\frac{p_{\\infty} - p}{\\tau_p} \\\\\n",
    "        p_{\\infty} &=\\frac{1}{1+\\exp ((V+75) / 5.5)} \\\\\n",
    "        \\tau_{p} &=\\frac{1}{\\exp (-0.086 V-14.59)+\\exp (0.0701 V-1.87)}\n",
    "        \\end{aligned}\n",
    "        $$\n",
    "\n",
    "其中：\n",
    "- $p$ 是激活变量\n",
    "- $g_{\\text{max}}$ 是最大电导\n",
    "- $E$ 是反转电位（约 43 mV）\n",
    "- $\\phi$ 是温度因子\n",
    "\n",
    "具体代码实现如下：\n",
    "\n",
    "```python\n",
    "class Ih_HM1992(Channel):\n",
    "    def __init__(\n",
    "        self,\n",
    "        size,\n",
    "        g_max=10. * (u.mS / u.cm ** 2),\n",
    "        E=43. * u.mV,\n",
    "        phi=1.,\n",
    "        name=None,\n",
    "    ):\n",
    "        super().__init__(size=size, name=name)\n",
    "        self.phi = brainstate.init.param(phi, self.varshape, allow_none=False)\n",
    "        self.g_max = brainstate.init.param(g_max, self.varshape, allow_none=False)\n",
    "        self.E = brainstate.init.param(E, self.varshape, allow_none=False)\n",
    "\n",
    "    def init_state(self, V, batch_size=None):\n",
    "        self.p = DiffEqState(brainstate.init.param(u.math.zeros, self.varshape, batch_size))\n",
    "\n",
    "    def reset_state(self, V, batch_size=None):\n",
    "        self.p.value = self.f_p_inf(V)\n",
    "\n",
    "    def compute_derivative(self, V):\n",
    "        self.p.derivative = self.phi * (self.f_p_inf(V) - self.p.value) / self.f_p_tau(V) / u.ms\n",
    "\n",
    "    def current(self, V):\n",
    "        return self.g_max * self.p.value * (self.E - V)\n",
    "\n",
    "    def f_p_inf(self, V):\n",
    "        V = V.to_decimal(u.mV)\n",
    "        return 1. / (1. + u.math.exp((V + 75.) / 5.5))\n",
    "\n",
    "    def f_p_tau(self, V):\n",
    "        V = V.to_decimal(u.mV)\n",
    "        return 1. / (u.math.exp(-0.086 * V - 14.59) + u.math.exp(0.0701 * V - 1.87))\n",
    "```\n",
    "\n",
    "通过这个例子你可以看到，超极化激活通道的建模非常自然地融入 `braincell` 框架，借助 `Channel` 的接口，轻松表达其独特的动力学性质。"
   ],
   "id": "87817f05ee5939f0"
  }
 ],
 "metadata": {
  "kernelspec": {
   "display_name": "Python 3",
   "language": "python",
   "name": "python3"
  },
  "language_info": {
   "codemirror_mode": {
    "name": "ipython",
    "version": 2
   },
   "file_extension": ".py",
   "mimetype": "text/x-python",
   "name": "python",
   "nbconvert_exporter": "python",
   "pygments_lexer": "ipython2",
   "version": "2.7.6"
  }
 },
 "nbformat": 4,
 "nbformat_minor": 5
}
