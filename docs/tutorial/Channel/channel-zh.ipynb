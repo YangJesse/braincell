{
 "cells": [
  {
   "metadata": {},
   "cell_type": "markdown",
   "source": [
    "# Channel\n",
    "\n",
    "在完成了对 `Cell` 建模的学习后，我们发现无论是 `SingleCompartment` 还是 `MultiCompartment` ，只要是 `HHTypedNeuron` ，在实际应用中都需要对离子通道进行设置。\n",
    "\n",
    "因此，我们现在来对 `Channel` 进行建模。\n",
    "\n",
    "同样，我们根据通道功能的不同，将`Channel` 分为以下几类：\n",
    "\n",
    "- `Calcium Channels`：钙离子通道\n",
    "- `Potassium Channels`：钾离子通道\n",
    "- `Sodium Channels`：钠离子通道\n",
    "- `Potassium Calcium Channels`：钙依赖性钾通道\n",
    "- `Hyperpolarization-Activated Channels`：超极化激活通道\n",
    "- `Leakage Channels`：漏电通道\n",
    "\n",
    "以上这些通道提供了丰富的功能，对于每一种通道，我们还准备了许多已经内置好的具体通道。如果想了解更多的内置的通道，你可以通过查阅 API 文档来学习使用。\n",
    "\n",
    "而且我们支持添加自定义的通道，给 `Channel` 的建模提供了很强的灵活性。\n",
    "\n",
    "`braincell` 的通道建模具备以下几个显著优势：\n",
    "\n",
    "- 接口统一：无论是线性通道还是复杂 Markov 模型，均可统一表示和集成。\n",
    "- 灵活性强：支持多种电流类型，同时支持用户自定义建模。\n",
    "- 兼容 `brainstate` 的自动微分系统：每个状态变量都能被精确地自动求导，支持高效训练与优化。\n",
    "- 可拓展性高：通过继承与组合机制，通道模型可以轻松构建子类，实现参数修改与拓展。\n",
    "\n",
    "当然，在介绍具体通道之前，我们先要来讨论一下 `Channel` 本身的建模。\n",
    "\n",
    "## Channel 的建模\n",
    "\n",
    "在生物神经元中，离子通道控制着钠、钾、钙等离子的通透性，是神经信号发生与传递的基础。不同类型的通道具有各自的动力学特性，并对膜电位的变化产生影响。\n",
    "\n",
    "在 `braincell` 中，我们使用 `IonChannel` 类作为通道建模的基础类。所有具体的通道模型都应继承自该类。\n",
    "\n",
    "`IonChannel` 提供了以下接口，用于支持仿真过程中的关键操作：\n",
    "\n",
    "- `current`：计算通道产生的离子电流\n",
    "- `compute_derivative`：计算通道内部状态变量的导数\n",
    "- `init_state`：初始化通道的状态变量\n",
    "- `reset_state`：重置通道状态\n",
    "- `pre_integral` 和 `post_integral`：积分前后的状态更新钩子\n",
    "- `update_state`：可选的状态更新接口，用于定制行为\n",
    "\n",
    "所有这些方法都能与 `brainstate` 的微分系统集成。\n",
    "\n",
    "在此之后，我们又定义了一个直接继承自 `IonChannel` 的基类 `Channel` 来进行封装。因为 `Channel` 本身直接继承自 `IonChannel` ，并未引入新的行为或接口，所以从功能上讲二者是等价的。当然，在语义上，我们更建议你用 `Channel` 来开发实际通道模型。\n",
    "\n",
    "在完成了对 `Channel` 这个基类的建模之后，我们要对不同的具体通道进行建模了。从实际应用上说，我们希望 `Channel` 的子类应该实现特定的方法，以定义特定通道类型的行为。\n",
    "\n",
    "\n",
    "\n",
    "\n",
    "\n",
    "\n",
    "\n",
    "\n",
    "\n",
    "\n",
    "\n"
   ],
   "id": "bebf7063035d65ef"
  },
  {
   "metadata": {},
   "cell_type": "code",
   "outputs": [],
   "execution_count": null,
   "source": "",
   "id": "676b2ad9b5eed85d"
  }
 ],
 "metadata": {
  "kernelspec": {
   "display_name": "Python 3",
   "language": "python",
   "name": "python3"
  },
  "language_info": {
   "codemirror_mode": {
    "name": "ipython",
    "version": 2
   },
   "file_extension": ".py",
   "mimetype": "text/x-python",
   "name": "python",
   "nbconvert_exporter": "python",
   "pygments_lexer": "ipython2",
   "version": "2.7.6"
  }
 },
 "nbformat": 4,
 "nbformat_minor": 5
}
