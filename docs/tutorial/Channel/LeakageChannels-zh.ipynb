{
 "cells": [
  {
   "cell_type": "code",
   "execution_count": null,
   "id": "initial_id",
   "metadata": {
    "collapsed": true
   },
   "outputs": [],
   "source": [
    ""
   ]
  },
  {
   "metadata": {},
   "cell_type": "markdown",
   "source": [
    "# Leakage Channels 的建模\n",
    "\n",
    "## 电生理学背景\n",
    "\n",
    "漏电流通道是一类始终开放的离子通道，其通透性不受膜电位、电压门控、配体结合等机制的调控。在电生理学中，漏电通道主要负责维持神经元的静息膜电位，通常被建模为一个线性电导。\n",
    "\n",
    "在经典的 HH 模型中，漏电流通道主要用于模拟未明确建模的背景离子流，提供一个稳定的背景电流。\n",
    "\n",
    "## 建模实现\n",
    "\n",
    "在 `braincell` 中，漏电通道通过继承 `LeakageChannel` 实现。由于漏电电流无激活或失活门控变量，因此该类通道不需要实现 `compute_derivative` 或 `init_state` 等微分过程，相对比较简单。\n",
    "\n",
    "我们来看一个具体的实现：`IL`，即最基础的线性漏电通道，其数学表达式为：\n",
    "\n",
    "$$\n",
    "I_L = g_L (E_L - V)\n",
    "$$\n",
    "\n",
    "其中：\n",
    "- $g_L$ 为漏电通道电导（通常为常数）\n",
    "- $E_L$ 为漏电反转电位\n",
    "- $V$ 为膜电位\n",
    "\n",
    "实现代码也相当简单：\n",
    "\n",
    "```python\n",
    "class IL(LeakageChannel):\n",
    "    def __init__(\n",
    "        self,\n",
    "        size,\n",
    "        g_max=0.1 * (u.mS / u.cm ** 2),\n",
    "        E=-70. * u.mV,\n",
    "        name=None,\n",
    "    ):\n",
    "        super().__init__(size=size, name=name)\n",
    "        self.E = brainstate.init.param(E, self.varshape, allow_none=False)\n",
    "        self.g_max = brainstate.init.param(g_max, self.varshape, allow_none=False)\n",
    "\n",
    "    def current(self, V):\n",
    "        return self.g_max * (self.E - V)\n",
    "```\n",
    "\n",
    "这个 `IL` 类提供了一个最简单的通道模型，它不涉及任何内部状态或动力学，是一个静态电导模型，常作为神经元模型中的基础部分。"
   ],
   "id": "39c073cff8208bb2"
  }
 ],
 "metadata": {
  "kernelspec": {
   "display_name": "Python 3",
   "language": "python",
   "name": "python3"
  },
  "language_info": {
   "codemirror_mode": {
    "name": "ipython",
    "version": 2
   },
   "file_extension": ".py",
   "mimetype": "text/x-python",
   "name": "python",
   "nbconvert_exporter": "python",
   "pygments_lexer": "ipython2",
   "version": "2.7.6"
  }
 },
 "nbformat": 4,
 "nbformat_minor": 5
}
