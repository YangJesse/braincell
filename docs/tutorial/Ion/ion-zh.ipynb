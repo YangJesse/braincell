{
 "cells": [
  {
   "metadata": {},
   "cell_type": "markdown",
   "source": [
    "# Ion\n",
    "\n",
    "在学习完 `Channel` 的部分后，我们会很自然的产生疑问：既然通道是通过离子的，那么在 `braincell` 中离子是怎么定义的呢？\n",
    "\n",
    "因此，我们现在来对 `Ion` 进行建模。\n",
    "\n",
    "根据离子的种类不同，我们将 `Ion` 分为以下几种：\n",
    "\n",
    "- `Calcium` ：钙离子\n",
    "- `Potassium` ：钾离子\n",
    "- `Sodium` ：钠离子\n",
    "\n",
    "这些离子可以用于定义不同元素的特异性特性和行为，能满足实际建模的需要。\n",
    "\n",
    "当然，在展开讲解这些不同的离子之前，我们一样还是要对 `Ion` 的建模进行简单的讨论。\n",
    "\n",
    "## Ion 的建模\n",
    "\n",
    "从实际电生理结构来看，`Ion` 是依赖于 `Channel` 的选择性通过才能在膜内外转移的。而在实际编程中，我们也根据这种依赖关系设计了继承关系：`Ion` 继承自 `IonChannel` 和 `Container`，这意味着它既具备通道接口能力，又具有容纳多个子模块的容器功能。在模拟系统中，`Ion` 会被接入到 `HHTypedNeuron` 类型的细胞中，与膜电位共同驱动通道演化。\n",
    "\n",
    "在 `braincell` 中，`Ion` 是一个用于管理某一类离子的抽象实体。它本质上并不产生电流，而是通过组织和调度其所包含的多个 `Channel`对象来实现对离子电流的建模与仿真。每一种离子都会对应一个 `Ion` 实例，该实例作为多个相关通道的容器与控制中心，负责这些通道的统一管理。\n",
    "\n",
    "同样，`Ion` 提供了多个统一的仿真接口，以管理其状态演化过程：\n",
    "\n",
    "- `init_state` ：初始化所有通道的状态变量\n",
    "- `reset_state` ：将所有通道状态重置为初始值\n",
    "- `compute_derivative` ：计算各通道状态变量的导数\n",
    "- `update_state` ：更新通道状态\n",
    "- `current` ：计算所有通道产生的总电流\n",
    "- `register_external_current` ：添加额外的外部电流函数\n",
    "- `pack_info` ：打包该离子的反转电位和浓度，传递给子通道\n",
    "- `add` ：添加通道\n",
    "\n",
    "综上，通过对 `Ion` 进行建模，可以使得代码结构更加模块化，集中管理每种离子的通道，避免混用。同时，通过 `Ion` 类，可以轻松实现组件的复用，提高了效率。\n",
    "\n",
    "在实际建模过程中，我们经常需要将离子的一些关键属性，如浓度和反转电位，传递给多个通道或者计算函数。为了简洁清晰的表达这些信息， `braincell` 引入了一个专用的数据结构 `IonInfo`。\n",
    "\n",
    "在 `IonInfo` 中，有两个关键属性：\n",
    "- `C` ：离子浓度\n",
    "- `E` ：反转电位\n",
    "\n",
    "可以将 `IonInfo` 理解为一个轻便的容器，用来统一管理和传递离子相关信息。它在 `Ion` 和 `Channel` 之间起到桥梁的作用，是一个简单但强大的信息传递结构。\n",
    "\n",
    "至此，我们已经完成了 `Ion` 的建模，接下来，我们来逐一学习不同的离子。\n",
    "\n",
    "\n",
    "\n",
    "\n",
    "\n",
    "\n",
    "\n",
    "\n"
   ],
   "id": "b0fcd92870a36e07"
  },
  {
   "metadata": {},
   "cell_type": "code",
   "outputs": [],
   "execution_count": null,
   "source": "",
   "id": "91f08ba610e30445"
  }
 ],
 "metadata": {
  "kernelspec": {
   "display_name": "Python 3",
   "language": "python",
   "name": "python3"
  },
  "language_info": {
   "codemirror_mode": {
    "name": "ipython",
    "version": 2
   },
   "file_extension": ".py",
   "mimetype": "text/x-python",
   "name": "python",
   "nbconvert_exporter": "python",
   "pygments_lexer": "ipython2",
   "version": "2.7.6"
  }
 },
 "nbformat": 4,
 "nbformat_minor": 5
}
