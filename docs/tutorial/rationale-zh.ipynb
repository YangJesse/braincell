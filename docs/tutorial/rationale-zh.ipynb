{
 "cells": [
  {
   "metadata": {},
   "cell_type": "markdown",
   "source": [
    "# BrainCell: Rationale\n",
    "\n",
    "\n",
    "## 1. 开发背景\n",
    "现有神经建模工具存在难以调和的矛盾，无法满足生物真实性、计算效率、灵活性的三重需求：\n",
    "- **传统脑仿真工具**（如NEURON、NEST、Brian2）：\n",
    "  - NEURON虽能精确模拟生物物理细节，但依赖静态代码生成，灵活性差，大规模网络模拟效率低下；\n",
    "  - NEST侧重群体网络动态，却简化了单细胞生物物理机制，难以捕捉离子通道级别的精细动力学；\n",
    "  - Brian2在处理复杂模型时的迭代速度受限。\n",
    "\n",
    "- **深度学习框架**（如PyTorch、TensorFlow）：\n",
    "  擅长大规模并行计算，但缺乏对神经动力学的原生支持——其核心设计针对反向传播优化，难以直接建模微分方程，且生物学上的部分约束需手动实现，复用性低。\n",
    "\n",
    "为此，我们构建了**BrainPy**生态系统，旨在统一神经建模的生物精确性与计算高效性。而**BrainCell**作为该生态的核心组件，专注解决神经细节建模的痛点，填补现有工具在单细胞-网络跨尺度模拟中的空白。\n",
    "\n",
    "\n",
    "## 2. 可行性\n",
    "BrainCell的开发基于扎实的理论基础与技术支撑，可行性明确：\n",
    "\n",
    "- **生物学原理**：\n",
    "  以神经科学经典理论为基石，直接映射可验证的生物物理机制——从离子通道的门控动力学（Hodgkin-Huxley模型）、多房室神经元的空间电流传导，到突触传递的化学/电信号转换，均严格遵循实验观测规律，确保模型可与电生理数据直接对标。\n",
    "\n",
    "- **物理学原理**：\n",
    "  神经动态本质是**刚性微分方程系统**，BrainCell基于JAX框架实现自动微分与硬件加速，可高效求解此类系统；同时，通过模块化设计将动力学过程拆解为可复用的状态与规则组合，既符合动力学系统的数学逻辑，又支持灵活扩展。\n",
    "\n",
    "\n",
    "## 3. 必要性\n",
    "BrainCell的开发是解决当前神经建模瓶颈的关键，核心价值体现在：\n",
    "\n",
    "- **填补技术空白**：\n",
    "  实现细节建模与大规模并行计算的无缝融合。既拥有单细胞建模精度，又具备深度学习框架的硬件适配能力，支持从离子通道到大尺度神经元网络的全尺度模拟。\n",
    "\n",
    "- **模块化与可复用性**：\n",
    "  实现简单易学的模块化建模框架。将离子通道、房室结构、突触机制等拆分为独立组件，用户可像搭积木一样组合模型，大幅降低自定义建模的门槛。\n",
    "\n",
    "- **即时连接**：\n",
    "  作为BrainPy生态的基础层，BrainCell可与上层工具无缝对接，实现从离子通道到网络的跨尺度建模闭环，支持快速迭代验证。\n",
    "\n",
    "\n",
    "## 4. 生态系统\n",
    "BrainCell是`Brain Dynamics Programming (BDP) ecosystem <https://ecosystem-for-brain-dynamics.readthedocs.io/>` 的核心基石，该生态系统以多尺度神经动态统一建模为目标，形成层级化架构：\n",
    "\n",
    "- **底层（基础元件）**：由BrainCell主导，负责离子、离子通道、房室等神经单元的建模，定义神经动态的底层规则。\n",
    "- **中层**：\n",
    "- **上层（系统级模拟）**：全脑功能模拟。\n",
    "\n"
   ],
   "id": "fa005ed971b1f74d"
  },
  {
   "metadata": {
    "jupyter": {
     "is_executing": true
    }
   },
   "cell_type": "code",
   "source": "",
   "id": "bd8796b43fd55b6c",
   "outputs": [],
   "execution_count": null
  },
  {
   "metadata": {},
   "cell_type": "code",
   "outputs": [],
   "execution_count": null,
   "source": "",
   "id": "8e78933371922166"
  }
 ],
 "metadata": {
  "kernelspec": {
   "display_name": "Python 3",
   "language": "python",
   "name": "python3"
  },
  "language_info": {
   "codemirror_mode": {
    "name": "ipython",
    "version": 2
   },
   "file_extension": ".py",
   "mimetype": "text/x-python",
   "name": "python",
   "nbconvert_exporter": "python",
   "pygments_lexer": "ipython2",
   "version": "2.7.6"
  }
 },
 "nbformat": 4,
 "nbformat_minor": 5
}
