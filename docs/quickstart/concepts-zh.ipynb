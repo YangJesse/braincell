{
 "cells": [
  {
   "metadata": {},
   "cell_type": "markdown",
   "source": [
    "# 关键概念\n",
    "欢迎来到 ``braincell`` 的世界！\n",
    "\n",
    "本节简要介绍了 ``braincell`` 框架的一些关键概念。\n",
    "\n",
    "``braincell`` 是一个专为 **脑动力学树突建模** 设计的高性能计算框架，基于[JAX](https://github.com/jax-ml/jax) 构建。它为神经科学研究者、计算神经科学家和类脑计算工程师提供了一套完整的工具链，用于构建、模拟和优化从离子通道到多尺度神经网络的电生理精确模型，并且整合了现代硬件加速、自动微分等先进特性。以下教程将详细介绍其核心功能及其使用场景，帮助您快速上手并理解如何使用 ``braincell`` 构建和优化神经动力学模型。\n",
    "\n",
    "```python\n",
    "import jax.numpy as jnp\n",
    "import braincell\n",
    "```\n",
    "\n",
    "\n",
    "## 核心功能概览\n",
    "``braincell`` 的主要功能包括以下几个部分：\n",
    "\n",
    "\n",
    "###  **离子通道建模**\n",
    "支持通过模块化组件构建电生理精确的离子通道模型，包括：\n",
    "- **基础离子**：Na⁺、K⁺、Ca²⁺等离子建模与浓度梯度管理。\n",
    "- **离子通道**：基于Hodgkin-Huxley模型构建离子通道模型。\n",
    "- **多离子调控**：处理复杂离子相互作用。\n",
    "\n",
    "\n",
    "###  **神经元建模**\n",
    "提供单房室和多房室神经元结构，支持：\n",
    "- **树突空间结构建模** ：设定直径、长度、连接信息等参数。\n",
    "- **房室间电导耦合**：通过轴向电阻实现电耦合。\n",
    "\n",
    "\n",
    "\n",
    "###  **微分方程求解**\n",
    "基于[JAX](https://github.com/jax-ml/jax) 的高性能微分方程求解器，支持：\n",
    "- **状态变量管理**：管理膜电位、离子浓度等动态变量。\n",
    "- **高效数值积分**：利用[JAX](https://github.com/jax-ml/jax) 的 ``JIT`` 编译加速计算。\n",
    "- **多尺度模拟**：支持从单个神经元到小型网络的层级建模。\n",
    "\n",
    "\n",
    "接下来，我们将逐项深入探讨这些功能的使用方法和优化策略，帮助你从基础离子通道到复杂神经网络，全面掌握 ``braincell`` 的建模能力。"
   ],
   "id": "4eb1e0a1157dfe1"
  }
 ],
 "metadata": {
  "kernelspec": {
   "display_name": "Python 3",
   "language": "python",
   "name": "python3"
  },
  "language_info": {
   "codemirror_mode": {
    "name": "ipython",
    "version": 2
   },
   "file_extension": ".py",
   "mimetype": "text/x-python",
   "name": "python",
   "nbconvert_exporter": "python",
   "pygments_lexer": "ipython2",
   "version": "2.7.6"
  }
 },
 "nbformat": 4,
 "nbformat_minor": 5
}
