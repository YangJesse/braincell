{
 "cells": [
  {
   "metadata": {},
   "cell_type": "code",
   "outputs": [],
   "execution_count": null,
   "source": "",
   "id": "40b8a5def1e907de"
  },
  {
   "metadata": {},
   "cell_type": "markdown",
   "source": [
    "# 更多\n",
    "\n",
    "如果你觉得这部分的内容不够具体，可以查阅我们的[example](./example)文档。我们在里面准备了丰富的神经计算建模实例，并且编写了详细的注释。\n",
    "\n",
    "如果你想对神经计算建模进行更为深入的学习，可以阅读[《神经计算建模实战：基于BrainPy》](https://brainmodeling.readthedocs.io/book.html)一书。\n",
    "\n",
    "同时，我们也已经举办了多届神经计算建模及编程培训班，如果你想进一步加强在神经计算、类脑智能等领域的专业能力，可以查看[第四届神经计算建模及编程培训班](https://meeting2025.cns.org.cn/4thNCMP/)进行了解。"
   ],
   "id": "368b36e77d98bb56"
  },
  {
   "metadata": {
    "ExecuteTime": {
     "end_time": "2025-07-11T12:10:00.874311Z",
     "start_time": "2025-07-11T12:10:00.872462Z"
    }
   },
   "cell_type": "code",
   "source": "",
   "id": "c4114c9d47880c3",
   "outputs": [],
   "execution_count": null
  }
 ],
 "metadata": {
  "kernelspec": {
   "display_name": "Python 3",
   "language": "python",
   "name": "python3"
  },
  "language_info": {
   "codemirror_mode": {
    "name": "ipython",
    "version": 2
   },
   "file_extension": ".py",
   "mimetype": "text/x-python",
   "name": "python",
   "nbconvert_exporter": "python",
   "pygments_lexer": "ipython2",
   "version": "2.7.6"
  }
 },
 "nbformat": 4,
 "nbformat_minor": 5
}
